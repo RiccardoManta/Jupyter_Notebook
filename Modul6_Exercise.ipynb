{
  "metadata": {
    "language_info": {
      "codemirror_mode": {
        "name": "python",
        "version": 3
      },
      "file_extension": ".py",
      "mimetype": "text/x-python",
      "name": "python",
      "nbconvert_exporter": "python",
      "pygments_lexer": "ipython3",
      "version": "3.8"
    },
    "kernelspec": {
      "name": "python",
      "display_name": "Pyolite",
      "language": "python"
    }
  },
  "nbformat_minor": 4,
  "nbformat": 4,
  "cells": [
    {
      "cell_type": "markdown",
      "source": "# Modlul6_Exercise",
      "metadata": {}
    },
    {
      "cell_type": "markdown",
      "source": "## This is the introduction",
      "metadata": {}
    },
    {
      "cell_type": "markdown",
      "source": "| Data Science Languages |\n| -------------|\n| Python |\n| R |\n| Julia |",
      "metadata": {}
    },
    {
      "cell_type": "markdown",
      "source": "| Data Science Libraries |\n| -------------|\n| Pandas |\n| NumPy |\n| PyTorch |",
      "metadata": {}
    },
    {
      "cell_type": "markdown",
      "source": "| Data Science Tools |\n| -------------|\n| Jupyter Notebooks |\n| RStudio |\n| Anaconda |",
      "metadata": {}
    },
    {
      "cell_type": "code",
      "source": "### Introduction to arithmetic expression example",
      "metadata": {
        "trusted": true
      },
      "execution_count": 11,
      "outputs": [
        {
          "name": "stdout",
          "text": "3\n",
          "output_type": "stream"
        }
      ]
    },
    {
      "cell_type": "code",
      "source": "A = 1\nB = 2\nprint (A + B)\n\nprint (A * B)",
      "metadata": {
        "trusted": true
      },
      "execution_count": 13,
      "outputs": [
        {
          "name": "stdout",
          "text": "3\n2\n",
          "output_type": "stream"
        }
      ]
    },
    {
      "cell_type": "code",
      "source": "minutes = 2\n\nhours = (minutes / 60)\n\nprint (hours)",
      "metadata": {
        "trusted": true
      },
      "execution_count": 17,
      "outputs": [
        {
          "name": "stdout",
          "text": "0.03333333333333333\n",
          "output_type": "stream"
        }
      ]
    },
    {
      "cell_type": "markdown",
      "source": "* Objective 1\n* Objective 2\n* Objective 3",
      "metadata": {}
    },
    {
      "cell_type": "markdown",
      "source": "#### Riccardo Manta",
      "metadata": {}
    },
    {
      "cell_type": "code",
      "source": "",
      "metadata": {},
      "execution_count": null,
      "outputs": []
    }
  ]
}